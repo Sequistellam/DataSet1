{
 "cells": [
  {
   "cell_type": "code",
   "execution_count": null,
   "id": "3b3bf949",
   "metadata": {},
   "outputs": [],
   "source": [
    "#Question 1 C#.\n",
    "\n",
    "5: int\n",
    "5.0: double\n",
    "5 > 1: bool\n",
    "'5': char\n",
    "5 * 2: int\n",
    "'5' * 2: int\n",
    "'5' + '2': int\n",
    "5 / 2: int\n",
    "5 % 2: int\n",
    "{5, 2, 1}: int[] (array of integers)\n",
    "5 == 3: bool\n",
    "Pi (the number): double\n",
    "    \n",
    "#To check the correctness we can use code as follows:\n",
    "\n",
    "class Program\n",
    "{\n",
    "    static void Main()\n",
    "    {\n",
    "        // 5\n",
    "        var value1 = 5;\n",
    "        Console.WriteLine(value1.GetType());\n",
    "\n",
    "        // 5.0\n",
    "        var value2 = 5.0;\n",
    "        Console.WriteLine(value2.GetType());\n",
    "\n",
    "        // 5 > 1\n",
    "        var value3 = 5 > 1;\n",
    "        Console.WriteLine(value3.GetType());\n",
    "\n",
    "        // '5'\n",
    "        var value4 = '5';\n",
    "        Console.WriteLine(value4.GetType());\n",
    "\n",
    "        // 5 * 2\n",
    "        var value5 = 5 * 2;\n",
    "        Console.WriteLine(value5.GetType());\n",
    "\n",
    "        // '5' * 2\n",
    "        var value6 = '5' * 2;\n",
    "        Console.WriteLine(value6.GetType());\n",
    "\n",
    "        // '5' + '2'\n",
    "        var value7 = '5' + '2';\n",
    "        Console.WriteLine(value7.GetType());\n",
    "\n",
    "        // 5 / 2\n",
    "        var value8 = 5 / 2;\n",
    "        Console.WriteLine(value8.GetType());\n",
    "\n",
    "        // 5 % 2\n",
    "        var value9 = 5 % 2;\n",
    "        Console.WriteLine(value9.GetType());\n",
    "\n",
    "        // {5, 2, 1}\n",
    "        var value10 = new[] { 5, 2, 1 };\n",
    "        Console.WriteLine(value10.GetType());\n",
    "\n",
    "        // 5 == 3\n",
    "        var value11 = 5 == 3;\n",
    "        Console.WriteLine(value11.GetType());\n",
    "\n",
    "        // Pi (the number)\n",
    "        var value12 = Math.PI;\n",
    "        Console.WriteLine(value12.GetType());\n",
    "    }\n",
    "}\n",
    "\n"
   ]
  },
  {
   "cell_type": "code",
   "execution_count": null,
   "id": "5cbe1996",
   "metadata": {},
   "outputs": [],
   "source": [
    "#Question 2 C#.\n",
    "#Write (and evaluate) C# expressions that answer these questions:\n",
    "\n",
    "#a. How many letters are there in 'Supercalifragilisticexpialidocious'?\n",
    "{\n",
    "    static void Main()\n",
    "    {\n",
    "string word = \"Supercalifragilisticexpialidocious\";\n",
    "int letterCount = word.Length;\n",
    "Console.WriteLine(\"Number of letters: \" + letterCount);\n",
    "   }\n",
    "}\n",
    "#b. Does 'Supercalifragilisticexpialidocious' contain 'ice' as a substring?\n",
    "{\n",
    "    static void Main()\n",
    "    {\n",
    "string word = \"Supercalifragilisticexpialidocious\";\n",
    "bool containsIce = word.Contains(\"ice\");\n",
    "Console.WriteLine(\"Contains 'ice': \" + containsIce);\n",
    "   }\n",
    "}\n",
    "#c. Which of the following words is the longest:\n",
    "Supercalifragilisticexpialidocious, Honorificabilitudinitatibus, or\n",
    "Bababadalgharaghtakamminarronnkonn?\n",
    "\n",
    "{\n",
    "    static void Main()\n",
    "    {\n",
    "        string word1 = \"Supercalifragilisticexpialidocious\";\n",
    "        string word2 = \"Honorificabilitudinitatibus\";\n",
    "        string word3 = \"Bababadalgharaghtakamminarronnkonn\";\n",
    "\n",
    "        string longestWord = word1;\n",
    "\n",
    "        if (word2.Length > longestWord.Length)\n",
    "        {\n",
    "            longestWord = word2;\n",
    "        }\n",
    "\n",
    "        if (word3.Length > longestWord.Length)\n",
    "        {\n",
    "            longestWord = word3;\n",
    "        }\n",
    "\n",
    "        Console.WriteLine(\"The longest word is: \" + longestWord);\n",
    "    }\n",
    "}\n",
    "\n",
    "#d. Which composer comes first in the dictionary: 'Berlioz', 'Borodin', 'Brian',\n",
    "'Bartok', 'Bellini', 'Buxtehude', 'Bernstein'. Which one comes last?\n",
    "\n",
    "{\n",
    "    static void Main()\n",
    "    {\n",
    "        string[] composers = { \"Berlioz\", \"Borodin\", \"Brian\", \"Bartok\", \"Bellini\", \"Buxtehude\", \"Bernstein\" };\n",
    "        \n",
    "        // Sort the array\n",
    "        Array.Sort(composers);\n",
    "        \n",
    "        // Print the first and the last composer\n",
    "        Console.WriteLine(\"The first composer in the dictionary order is: \" + composers.First());\n",
    "        Console.WriteLine(\"The last composer in the dictionary order is: \" + composers.Last());\n",
    "    }\n",
    "}"
   ]
  },
  {
   "cell_type": "code",
   "execution_count": null,
   "id": "892c441b",
   "metadata": {},
   "outputs": [],
   "source": [
    "#Question 3 C#\n",
    "\n",
    "class Program\n",
    "{\n",
    "    static void Main()\n",
    "    {\n",
    "        Console.Write(\"Enter length of side a: \");\n",
    "        double a = Convert.ToDouble(Console.ReadLine());\n",
    "\n",
    "        Console.Write(\"Enter length of side b: \");\n",
    "        double b = Convert.ToDouble(Console.ReadLine());\n",
    "\n",
    "        Console.Write(\"Enter length of side c: \");\n",
    "        double c = Convert.ToDouble(Console.ReadLine());\n",
    "\n",
    "        double area = TriangleArea(a, b, c);\n",
    "\n",
    "        Console.WriteLine($\"The area of the triangle with sides {a}, {b}, and {c} is {area}.\");\n",
    "    }\n",
    "\n",
    "    static double TriangleArea(double a, double b, double c)\n",
    "    {\n",
    "        double s = (a + b + c) / 2.0;\n",
    "        return Math.Sqrt(s * (s - a) * (s - b) * (s - c));\n",
    "    }\n",
    "}\n"
   ]
  },
  {
   "cell_type": "code",
   "execution_count": null,
   "id": "3612a300",
   "metadata": {},
   "outputs": [],
   "source": [
    "#Question 4 C#\n",
    "\n",
    "public class Program\n",
    "{\n",
    "    public static void Main()\n",
    "    {\n",
    "        int n = 5; // number of elements to be stored in the array\n",
    "\n",
    "        int[] arr = new int[] { 25, 47, 42, 56, 32 }; // predefined array elements\n",
    "\n",
    "        int[] odd = new int[n];\n",
    "        int[] even = new int[n];\n",
    "\n",
    "        int oddCount = 0, evenCount = 0;\n",
    "        for (int i = 0; i < n; i++)\n",
    "        {\n",
    "            if (arr[i] % 2 == 0)\n",
    "            {\n",
    "                even[evenCount] = arr[i];\n",
    "                evenCount++;\n",
    "            }\n",
    "            else\n",
    "            {\n",
    "                odd[oddCount] = arr[i];\n",
    "                oddCount++;\n",
    "            }\n",
    "        }\n",
    "\n",
    "        Console.WriteLine(\"The Even elements are:\");\n",
    "        for (int i = 0; i < evenCount; i++)\n",
    "        {\n",
    "            Console.WriteLine(even[i]);\n",
    "        }\n",
    "\n",
    "        Console.WriteLine(\"The Odd elements are:\");\n",
    "        for (int i = 0; i < oddCount; i++)\n",
    "        {\n",
    "            Console.WriteLine(odd[i]);\n",
    "        }\n",
    "    }\n",
    "}"
   ]
  },
  {
   "cell_type": "code",
   "execution_count": null,
   "id": "ab81ad37",
   "metadata": {},
   "outputs": [],
   "source": [
    "#Question 5 C#\n",
    "\n",
    "# a\n",
    "public class Program\n",
    "{\n",
    "    public static void Main()\n",
    "    {\n",
    "        Console.WriteLine(\"Enter the coordinates of the point:\");\n",
    "        Console.Write(\"x: \");\n",
    "        int x = int.Parse(Console.ReadLine());\n",
    "\n",
    "        Console.Write(\"y: \");\n",
    "        int y = int.Parse(Console.ReadLine());\n",
    "\n",
    "        Console.WriteLine(\"Enter the coordinates of the rectangle:\");\n",
    "        Console.Write(\"x1: \");\n",
    "        int x1 = int.Parse(Console.ReadLine());\n",
    "\n",
    "        Console.Write(\"y1: \");\n",
    "        int y1 = int.Parse(Console.ReadLine());\n",
    "\n",
    "        Console.Write(\"x2: \");\n",
    "        int x2 = int.Parse(Console.ReadLine());\n",
    "\n",
    "        Console.Write(\"y2: \");\n",
    "        int y2 = int.Parse(Console.ReadLine());\n",
    "\n",
    "        bool isInside = Inside(x, y, x1, y1, x2, y2);\n",
    "        Console.WriteLine(\"Point is inside the rectangle: \" + isInside);\n",
    "    }\n",
    "\n",
    "    public static bool Inside(int x, int y, int x1, int y1, int x2, int y2)\n",
    "    {\n",
    "        bool isInsideX = x >= x1 && x <= x2;\n",
    "        bool isInsideY = y >= y1 && y <= y2;\n",
    "\n",
    "        return isInsideX && isInsideY;\n",
    "    }\n",
    "}\n",
    "\n",
    "# b\n",
    "\n",
    "public class Program\n",
    "{\n",
    "    public static void Main()\n",
    "    {\n",
    "        bool isInRectangle1 = Inside(1, 1, (int)(0.3 * 10), (int)(0.5 * 10), (int)(1.1 * 10), (int)(0.7 * 10));\n",
    "        bool isInRectangle2 = Inside(1, 1, (int)(0.5 * 10), (int)(0.2 * 10), (int)(1.1 * 10), (int)(2 * 10));\n",
    "        bool isInsideBothRectangles = isInRectangle1 && isInRectangle2;\n",
    "\n",
    "        Console.WriteLine(\"Point (1, 1) is inside both rectangles: \" + isInsideBothRectangles);\n",
    "    }\n",
    "\n",
    "    public static bool Inside(int x, int y, int x1, int y1, int x2, int y2)\n",
    "    {\n",
    "        bool isInsideX = x >= x1 && x <= x2;\n",
    "        bool isInsideY = y >= y1 && y <= y2;\n",
    "\n",
    "        return isInsideX && isInsideY;\n",
    "    }\n",
    "}\n",
    "\n"
   ]
  },
  {
   "cell_type": "code",
   "execution_count": 3,
   "id": "33257e93",
   "metadata": {},
   "outputs": [],
   "source": [
    "#Question 6 \n",
    "\n",
    "def pig(word):\n",
    "    word = word.lower()\n",
    "    if word[0] in 'aeiou':\n",
    "        return word + 'ay'\n",
    "    else:\n",
    "        return word[1:] + word[0] + 'ay'"
   ]
  },
  {
   "cell_type": "code",
   "execution_count": 7,
   "id": "02eaee9c",
   "metadata": {},
   "outputs": [
    {
     "data": {
      "text/plain": [
       "'appyhay'"
      ]
     },
     "execution_count": 7,
     "metadata": {},
     "output_type": "execute_result"
    }
   ],
   "source": [
    "pig('Happy')"
   ]
  },
  {
   "cell_type": "code",
   "execution_count": 8,
   "id": "63883c65",
   "metadata": {},
   "outputs": [
    {
     "data": {
      "text/plain": [
       "'enteray'"
      ]
     },
     "execution_count": 8,
     "metadata": {},
     "output_type": "execute_result"
    }
   ],
   "source": [
    "pig('Enter')\n"
   ]
  },
  {
   "cell_type": "code",
   "execution_count": 36,
   "id": "cb37be49",
   "metadata": {},
   "outputs": [],
   "source": [
    "#Question 7\n",
    "def bldcount(filename):\n",
    "    blood_types = ['A', 'B', 'AB', 'O', 'OO']\n",
    "    count = [0] * len(blood_types)  # Initialize count for each blood type to zero\n",
    "\n",
    "    # Read the file and count the occurrences of each blood type\n",
    "    with open(filename, 'r') as file:\n",
    "        blood_data = file.read().split()\n",
    "        for blood_type in blood_data:\n",
    "            if blood_type in blood_types:\n",
    "                count[blood_types.index(blood_type)] += 1\n",
    "\n",
    "    # Print the count for each blood type\n",
    "    for i, blood_type in enumerate(blood_types):\n",
    "        if count[i] == 1:\n",
    "            print(f\"There is one patient of blood type {blood_type}.\")\n",
    "        else:\n",
    "            print(f\"There are {count[i]} patients of blood type {blood_type}.\")"
   ]
  },
  {
   "cell_type": "code",
   "execution_count": 37,
   "id": "ac97696f",
   "metadata": {},
   "outputs": [
    {
     "name": "stdout",
     "output_type": "stream",
     "text": [
      "There are 15 patients of blood type A.\n",
      "There is one patient of blood type B.\n",
      "There are 13 patients of blood type AB.\n",
      "There are 15 patients of blood type O.\n",
      "There are 0 patients of blood type OO.\n"
     ]
    }
   ],
   "source": [
    "bldcount('C:\\\\Georgian\\\\Programming\\\\bloodtype1.txt')"
   ]
  },
  {
   "cell_type": "code",
   "execution_count": 45,
   "id": "02601b2c",
   "metadata": {},
   "outputs": [],
   "source": [
    "#Question 8\n",
    "def curconv(currency, amount):\n",
    "    rates = {\n",
    "        'AUD': 1.0345157,\n",
    "        'CHF': 1.0237414,\n",
    "        'CNY': 0.1550176,\n",
    "        'DKK': 0.1651442,\n",
    "        'EUR': 1.2296544,\n",
    "        'GBP': 1.5550989,\n",
    "        'HKD': 0.1270207,\n",
    "        'INR': 0.0177643,\n",
    "        'JPY': 0.01241401,\n",
    "        'MXN': 0.0751848,\n",
    "        'MYR': 0.3145411,\n",
    "        'NOK': 0.1677063,\n",
    "        'NZD': 0.8003591,\n",
    "        'PHP': 0.0233234,\n",
    "        'SEK': 0.148269,\n",
    "        'SGD': 0.788871,\n",
    "        'THB': 0.0313789\n",
    "    }\n",
    "\n",
    "    if currency in rates:\n",
    "        return amount * rates[currency]\n",
    "    else:\n",
    "        return \"Currency not found in rates.\"\n"
   ]
  },
  {
   "cell_type": "code",
   "execution_count": 55,
   "id": "a09efe86",
   "metadata": {},
   "outputs": [
    {
     "data": {
      "text/plain": [
       "'Currency not found in rates.'"
      ]
     },
     "execution_count": 55,
     "metadata": {},
     "output_type": "execute_result"
    }
   ],
   "source": [
    "curconv('EUR', 100)"
   ]
  },
  {
   "cell_type": "code",
   "execution_count": 56,
   "id": "bde63bab",
   "metadata": {},
   "outputs": [
    {
     "data": {
      "text/plain": [
       "1.241401"
      ]
     },
     "execution_count": 56,
     "metadata": {},
     "output_type": "execute_result"
    }
   ],
   "source": [
    "curconv('JPY', 100)"
   ]
  },
  {
   "cell_type": "code",
   "execution_count": 57,
   "id": "6912323e",
   "metadata": {},
   "outputs": [
    {
     "data": {
      "text/plain": [
       "'Currency not found in rates.'"
      ]
     },
     "execution_count": 57,
     "metadata": {},
     "output_type": "execute_result"
    }
   ],
   "source": [
    "curconv('RUR', 100)"
   ]
  },
  {
   "cell_type": "code",
   "execution_count": null,
   "id": "531641fa",
   "metadata": {},
   "outputs": [],
   "source": [
    "#Question 9\n",
    "Trying to add incompatible variables, as in adding 6 + 'a':\n",
    "This will cause a TypeError exception. \n",
    "\n",
    "Referring to the 12th item of a list that has only 10 items:\n",
    "This will cause an IndexError exception.\n",
    "\n",
    "Using a value that is out of range for a function's input, such as calling math.sqrt(-1.0):\n",
    "This will cause a ValueError exception. \n",
    "\n",
    "Using an undeclared variable, such as print(x) when x has not been defined:\n",
    "This will cause a NameError exception. \n",
    "\n",
    "Trying to open a file that does not exist, such as mistyping the file name or looking in the wrong directory:\n",
    "This will cause a FileNotFoundError exception. "
   ]
  },
  {
   "cell_type": "code",
   "execution_count": 61,
   "id": "285da272",
   "metadata": {},
   "outputs": [],
   "source": [
    "#Question 10\n",
    "def frequencies(text):\n",
    "    letters = 'abcdefghijklmnopqrstuvwxyz'\n",
    "    freq_list = [0] * len(letters)\n",
    "\n",
    "    for char in text:\n",
    "        if char.lower() in letters:\n",
    "            index = letters.index(char.lower())\n",
    "            freq_list[index] += 1\n",
    "\n",
    "    return freq_list"
   ]
  },
  {
   "cell_type": "code",
   "execution_count": 63,
   "id": "02ad051d",
   "metadata": {},
   "outputs": [
    {
     "data": {
      "text/plain": [
       "[1, 1, 1, 3, 5, 1, 1, 2, 1, 0, 1, 0, 1, 2, 4, 0, 1, 2, 0, 3, 1, 0, 1, 1, 0, 0]"
      ]
     },
     "execution_count": 63,
     "metadata": {},
     "output_type": "execute_result"
    }
   ],
   "source": [
    "frequencies(\"The quick red fox got bored and went home.\")"
   ]
  },
  {
   "cell_type": "code",
   "execution_count": 64,
   "id": "e8fdb03b",
   "metadata": {},
   "outputs": [
    {
     "data": {
      "text/plain": [
       "[1, 0, 0, 0, 1, 0, 0, 0, 0, 0, 0, 1, 0, 0, 0, 2, 0, 0, 0, 0, 0, 0, 0, 0, 0, 0]"
      ]
     },
     "execution_count": 64,
     "metadata": {},
     "output_type": "execute_result"
    }
   ],
   "source": [
    "frequencies(\"apple\")"
   ]
  },
  {
   "cell_type": "code",
   "execution_count": null,
   "id": "24d13794",
   "metadata": {},
   "outputs": [],
   "source": []
  }
 ],
 "metadata": {
  "kernelspec": {
   "display_name": "Python 3 (ipykernel)",
   "language": "python",
   "name": "python3"
  },
  "language_info": {
   "codemirror_mode": {
    "name": "ipython",
    "version": 3
   },
   "file_extension": ".py",
   "mimetype": "text/x-python",
   "name": "python",
   "nbconvert_exporter": "python",
   "pygments_lexer": "ipython3",
   "version": "3.10.9"
  }
 },
 "nbformat": 4,
 "nbformat_minor": 5
}
